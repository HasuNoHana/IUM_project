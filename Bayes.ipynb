{
 "cells": [
  {
   "cell_type": "code",
   "execution_count": 114,
   "metadata": {},
   "outputs": [],
   "source": [
    "import numpy as np\n",
    "import pandas as pd\n",
    "from sklearn.model_selection import train_test_split\n",
    "from sklearn.naive_bayes import GaussianNB\n",
    "from sklearn.metrics import accuracy_score\n",
    "import matplotlib.pyplot as plt\n",
    "import seaborn as sns\n",
    "from data_preprocessing.DataLoader import DataLoader\n",
    "from sklearn.preprocessing import StandardScaler"
   ]
  },
  {
   "cell_type": "code",
   "execution_count": 115,
   "metadata": {},
   "outputs": [],
   "source": [
    "def unite_sets(deliveries, products, sessions, users):\n",
    "    deliveries[\"deltas\"] = deliveries[\"delivery_timestamp\"] - deliveries[\"purchase_timestamp\"]\n",
    "\n",
    "    # divide category\n",
    "    categories = products.category_path.str.split(';', expand=True)\n",
    "    products = pd.concat([products, categories], axis=1)\n",
    "    products = products.drop(columns=['category_path'])\n",
    "    products = products.rename(\n",
    "        columns={0: \"primary_category\", 1: \"secondary_category\", 2: \"tertiary_category\", 3: \"quaternary_category\"})\n",
    "\n",
    "\n",
    "    deliveries_sessions = pd.merge(deliveries, sessions, left_on=\"purchase_id\", right_on=\"purchase_id\")\n",
    "    deliveries_sessions_users = pd.merge(deliveries_sessions, users, left_on=\"user_id\", right_on=\"user_id\")\n",
    "    deliveries_sessions_users_products = pd.merge(deliveries_sessions_users, products, left_on=\"product_id\", right_on=\"product_id\")\n",
    "\n",
    "    deliveries_sessions_users_products.to_csv('../out.csv')\n",
    "    return deliveries_sessions_users_products"
   ]
  },
  {
   "cell_type": "code",
   "execution_count": 116,
   "metadata": {},
   "outputs": [],
   "source": [
    "#Function for labeling rows\n",
    "def labelTimeOfDay(row):\n",
    "    hour = row['purchase_timestamp'].hour\n",
    "    if(hour >= 6 and hour < 12):\n",
    "        return \"Morning\"\n",
    "    elif(hour >= 12 and hour < 18):\n",
    "        return \"Afternoon\"\n",
    "    elif(hour >=18 and hour < 24):\n",
    "        return \"Evening\"\n",
    "    else:\n",
    "        return \"Night\""
   ]
  },
  {
   "cell_type": "code",
   "execution_count": 130,
   "metadata": {},
   "outputs": [],
   "source": [
    "def one_hot_encode(united, s):\n",
    "    y = pd.get_dummies(united[s], prefix=s)\n",
    "    united = united.join(other=y)\n",
    "    united = united.loc[:, united.columns != s]\n",
    "    return united"
   ]
  },
  {
   "cell_type": "code",
   "execution_count": 176,
   "metadata": {},
   "outputs": [],
   "source": [
    "d = DataLoader.load_data_from_path(\"newData\")\n",
    "\n",
    "products = d.products\n",
    "deliveries = d.deliveries\n",
    "sessions = d.sessions\n",
    "users = d.users\n",
    "\n",
    "united = unite_sets(deliveries, products, sessions, users)\n",
    "\n",
    "# nie wnosi zadnej informacji wiec wyrzucamy daną kolumnę\n",
    "united = united.loc[:, united.columns != 'event_type']\n",
    "united = united.loc[:, united.columns != 'name']\n",
    "united = united.loc[:, united.columns != 'street']\n",
    "united = united.loc[:, united.columns != 'product_name']\n",
    "united = united.loc[:, united.columns != 'delivery_timestamp']\n",
    "united = united.loc[:, united.columns != 'timestamp']\n",
    "united = united.loc[:, united.columns != 'purchase_id']\n",
    "united = united.loc[:, united.columns != 'product_id']\n",
    "united = united.loc[:, united.columns != 'user_id']\n",
    "united = united.loc[:, united.columns != 'session_id']\n",
    "# united = united.loc[:, united.columns != 'offered_discount']\n",
    "# united = united.loc[:, united.columns != 'price']\n",
    "united = united.loc[:, united.columns != 'primary_category']\n",
    "united = united.loc[:, united.columns != 'secondary_category']\n",
    "united = united.loc[:, united.columns != 'tertiary_category']\n",
    "united = united.loc[:, united.columns != 'quaternary_category']\n",
    "\n",
    "united.loc[:,'time_of_day'] = united.apply(lambda row: labelTimeOfDay(row), axis=1)\n",
    "united['weekday'] = united['purchase_timestamp'].dt.day_name()\n",
    "united = united.loc[:, united.columns != 'purchase_timestamp']\n",
    "\n",
    "\n",
    "\n",
    "# y = pd.get_dummies(united.city, prefix='city')\n",
    "# united = united.join(other=y)\n",
    "# united = united.loc[:, united.columns != 'city']\n",
    "\n",
    "# y = pd.get_dummies(united.delivery_company, prefix='delivery_company')\n",
    "# united = united.join(other=y)\n",
    "# united = united.loc[:, united.columns != 'delivery_company']\n",
    "\n",
    "# y = pd.get_dummies(united.time_of_day, prefix='time_of_day')\n",
    "# united = united.join(other=y)\n",
    "# united = united.loc[:, united.columns != 'time_of_day']\n",
    "\n",
    "# y = pd.get_dummies(united.weekday, prefix='weekday')\n",
    "# united = united.join(other=y)\n",
    "# united = united.loc[:, united.columns != 'weekday']\n",
    "\n",
    "united = one_hot_encode(united, 'city')\n",
    "united = one_hot_encode(united, 'delivery_company')\n",
    "united = one_hot_encode(united, 'time_of_day')\n",
    "united = one_hot_encode(united, 'weekday')\n",
    "# united = one_hot_encode(united, 'primary_category')\n",
    "# united = one_hot_encode(united, 'secondary_category')\n",
    "# united= one_hot_encode(united, 'tertiary_category')\n",
    "# united = one_hot_encode(united, 'quaternary_category')\n",
    "\n",
    "united['deltas'] = pd.to_numeric(united['deltas'].dt.days, downcast='integer')\n",
    "\n",
    "\n",
    "# normalizacja deltas\n",
    "# unitated['deltas'] = unitated['deltas'] /unitated['deltas'].abs().max()\n",
    "\n",
    "\n",
    "# train, test = train_test_split(unitated, test_size=0.2)\n",
    "# X_train = train.loc[:, train.columns != 'deltas']\n",
    "# y_train = train['deltas']\n",
    "\n",
    "# X_test = test.loc[:, test.columns != 'deltas']\n",
    "# y_test = test['deltas']"
   ]
  },
  {
   "cell_type": "code",
   "execution_count": null,
   "metadata": {},
   "outputs": [],
   "source": []
  },
  {
   "cell_type": "code",
   "execution_count": 177,
   "metadata": {},
   "outputs": [],
   "source": [
    "x = united.drop('deltas', axis=1)\n",
    "y = united['deltas']\n",
    "X_train, X_test, y_train, y_test = train_test_split(x, y, test_size=0.2, random_state=42)\n",
    "# #Scaling\n",
    "# scaler = StandardScaler()\n",
    "# scaler.fit(X_train)\n",
    "# X_train = scaler.transform(X_train)\n",
    "# X_test = scaler.transform(X_test)"
   ]
  },
  {
   "cell_type": "code",
   "execution_count": null,
   "metadata": {},
   "outputs": [],
   "source": []
  },
  {
   "cell_type": "code",
   "execution_count": 178,
   "metadata": {},
   "outputs": [
    {
     "data": {
      "text/plain": [
       "GaussianNB(priors=None, var_smoothing=1e-09)"
      ]
     },
     "execution_count": 178,
     "metadata": {},
     "output_type": "execute_result"
    }
   ],
   "source": [
    "model = GaussianNB()\n",
    "model.fit(X_train, y_train)"
   ]
  },
  {
   "cell_type": "code",
   "execution_count": 179,
   "metadata": {},
   "outputs": [],
   "source": [
    "y_pred = model.predict(X_test)"
   ]
  },
  {
   "cell_type": "code",
   "execution_count": 180,
   "metadata": {},
   "outputs": [
    {
     "data": {
      "text/plain": [
       "array([0, 0, 3, ..., 1, 2, 1], dtype=int8)"
      ]
     },
     "execution_count": 180,
     "metadata": {},
     "output_type": "execute_result"
    }
   ],
   "source": [
    "y_pred"
   ]
  },
  {
   "cell_type": "code",
   "execution_count": 181,
   "metadata": {},
   "outputs": [],
   "source": [
    "accuracy = accuracy_score(y_test, y_pred)*100"
   ]
  },
  {
   "cell_type": "code",
   "execution_count": 182,
   "metadata": {},
   "outputs": [
    {
     "data": {
      "text/plain": [
       "42.361574382921944"
      ]
     },
     "execution_count": 182,
     "metadata": {},
     "output_type": "execute_result"
    }
   ],
   "source": [
    "accuracy"
   ]
  },
  {
   "cell_type": "code",
   "execution_count": 183,
   "metadata": {},
   "outputs": [
    {
     "data": {
      "text/plain": [
       "<function matplotlib.pyplot.show(*args, **kw)>"
      ]
     },
     "execution_count": 183,
     "metadata": {},
     "output_type": "execute_result"
    },
    {
     "data": {
      "image/png": "[encoded data removed]",
      "text/plain": [
       "<Figure size 432x288 with 1 Axes>"
      ]
     },
     "metadata": {
      "needs_background": "light"
     },
     "output_type": "display_data"
    }
   ],
   "source": [
    "plt.plot(y_pred, y_test,\".\")\n",
    "plt.title(\"Depencencies between Predicted and Real Values\")\n",
    "plt.xlabel(\"Predictions\")\n",
    "plt.ylabel(\"Reality\")\n",
    "plt.show"
   ]
  },
  {
   "cell_type": "code",
   "execution_count": null,
   "metadata": {},
   "outputs": [],
   "source": []
  }
 ],
 "metadata": {
  "kernelspec": {
   "display_name": "Python 3",
   "language": "python",
   "name": "python3"
  },
  "language_info": {
   "codemirror_mode": {
    "name": "ipython",
    "version": 3
   },
   "file_extension": ".py",
   "mimetype": "text/x-python",
   "name": "python",
   "nbconvert_exporter": "python",
   "pygments_lexer": "ipython3",
   "version": "3.7.4"
  }
 },
 "nbformat": 4,
 "nbformat_minor": 2
}
