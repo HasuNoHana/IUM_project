{
 "cells": [
  {
   "cell_type": "code",
   "execution_count": 95,
   "metadata": {},
   "outputs": [],
   "source": [
    "import numpy as np\n",
    "import pandas as pd\n",
    "from sklearn.model_selection import train_test_split\n",
    "from sklearn.naive_bayes import GaussianNB\n",
    "from sklearn.metrics import accuracy_score\n",
    "import matplotlib.pyplot as plt\n",
    "import seaborn as sns\n",
    "from data_preprocessing.DataLoader import DataLoader\n",
    "from sklearn.preprocessing import StandardScaler"
   ]
  },
  {
   "cell_type": "code",
   "execution_count": 96,
   "metadata": {},
   "outputs": [],
   "source": [
    "def unite_sets(deliveries, products, sessions, users):\n",
    "    deliveries[\"deltas\"] = deliveries[\"delivery_timestamp\"] - deliveries[\"purchase_timestamp\"]\n",
    "\n",
    "    # divide category\n",
    "    categories = products.category_path.str.split(';', expand=True)\n",
    "    products = pd.concat([products, categories], axis=1)\n",
    "    products = products.drop(columns=['category_path'])\n",
    "    products = products.rename(\n",
    "        columns={0: \"primary_category\", 1: \"secondary_category\", 2: \"tertiary_category\", 3: \"quaternary_category\"})\n",
    "\n",
    "\n",
    "    deliveries_sessions = pd.merge(deliveries, sessions, left_on=\"purchase_id\", right_on=\"purchase_id\")\n",
    "    deliveries_sessions_users = pd.merge(deliveries_sessions, users, left_on=\"user_id\", right_on=\"user_id\")\n",
    "    deliveries_sessions_users_products = pd.merge(deliveries_sessions_users, products, left_on=\"product_id\", right_on=\"product_id\")\n",
    "\n",
    "    deliveries_sessions_users_products.to_csv('../out.csv')\n",
    "    return deliveries_sessions_users_products"
   ]
  },
  {
   "cell_type": "code",
   "execution_count": 97,
   "metadata": {},
   "outputs": [],
   "source": [
    "#Function for labeling rows\n",
    "def labelTimeOfDay(row):\n",
    "    hour = row['purchase_timestamp'].hour\n",
    "    if(hour >= 6 and hour < 12):\n",
    "        return \"Morning\"\n",
    "    elif(hour >= 12 and hour < 18):\n",
    "        return \"Afternoon\"\n",
    "    elif(hour >=18 and hour < 24):\n",
    "        return \"Evening\"\n",
    "    else:\n",
    "        return \"Night\""
   ]
  },
  {
   "cell_type": "code",
   "execution_count": 98,
   "metadata": {},
   "outputs": [],
   "source": [
    "def one_hot_encode(unitated, s):\n",
    "    y = pd.get_dummies(unitated[s], prefix=s)\n",
    "    unitated = unitated.join(other=y)\n",
    "    unitated = unitated.loc[:, unitated.columns != s]\n",
    "    return unitated"
   ]
  },
  {
   "cell_type": "code",
   "execution_count": 104,
   "metadata": {},
   "outputs": [],
   "source": [
    "d = DataLoader.load_data_from_path(\"newData\")\n",
    "\n",
    "products = d.products\n",
    "deliveries = d.deliveries\n",
    "sessions = d.sessions\n",
    "users = d.users\n",
    "\n",
    "united = unite_sets(deliveries, products, sessions, users)\n",
    "\n",
    "# nie wnosi zadnej informacji wiec wyrzucamy daną kolumnę\n",
    "united = united.loc[:, united.columns != 'event_type']\n",
    "united = united.loc[:, united.columns != 'name']\n",
    "united = united.loc[:, united.columns != 'street']\n",
    "united = united.loc[:, united.columns != 'product_name']\n",
    "united = united.loc[:, united.columns != 'delivery_timestamp']\n",
    "united = united.loc[:, united.columns != 'timestamp']\n",
    "united = united.loc[:, united.columns != 'purchase_id']\n",
    "united = united.loc[:, united.columns != 'product_id']\n",
    "united = united.loc[:, united.columns != 'user_id']\n",
    "united = united.loc[:, united.columns != 'session_id']\n",
    "united = united.loc[:, united.columns != 'offered_discount']\n",
    "united = united.loc[:, united.columns != 'price']\n",
    "united = united.loc[:, united.columns != 'primary_category']\n",
    "united = united.loc[:, united.columns != 'secondary_category']\n",
    "united = united.loc[:, united.columns != 'tertiary_category']\n",
    "united = united.loc[:, united.columns != 'quaternary_category']\n",
    "\n",
    "united.loc[:,'time_of_day'] = united.apply(lambda row: labelTimeOfDay(row), axis=1)\n",
    "united['weekday'] = united['purchase_timestamp'].dt.day_name()\n",
    "united = united.loc[:, united.columns != 'purchase_timestamp']\n",
    "\n",
    "\n",
    "\n",
    "y = pd.get_dummies(united.city, prefix='city')\n",
    "united = united.join(other=y)\n",
    "united = united.loc[:, united.columns != 'city']\n",
    "\n",
    "y = pd.get_dummies(united.delivery_company, prefix='delivery_company')\n",
    "united = united.join(other=y)\n",
    "united = united.loc[:, united.columns != 'delivery_company']\n",
    "\n",
    "y = pd.get_dummies(united.time_of_day, prefix='time_of_day')\n",
    "united = united.join(other=y)\n",
    "united = united.loc[:, united.columns != 'time_of_day']\n",
    "\n",
    "y = pd.get_dummies(united.weekday, prefix='weekday')\n",
    "united = united.join(other=y)\n",
    "united = united.loc[:, united.columns != 'weekday']\n",
    "\n",
    "# united = one_hot_encode(unitated, 'primary_category')\n",
    "# united = one_hot_encode(unitated, 'secondary_category')\n",
    "# united= one_hot_encode(unitated, 'tertiary_category')\n",
    "# united = one_hot_encode(unitated, 'quaternary_category')\n",
    "\n",
    "united['deltas'] = pd.to_numeric(united['deltas'].dt.days, downcast='integer')\n",
    "\n",
    "\n",
    "# normalizacja deltas\n",
    "# unitated['deltas'] = unitated['deltas'] /unitated['deltas'].abs().max()\n",
    "\n",
    "\n",
    "# train, test = train_test_split(unitated, test_size=0.2)\n",
    "# X_train = train.loc[:, train.columns != 'deltas']\n",
    "# y_train = train['deltas']\n",
    "\n",
    "# X_test = test.loc[:, test.columns != 'deltas']\n",
    "# y_test = test['deltas']"
   ]
  },
  {
   "cell_type": "code",
   "execution_count": 105,
   "metadata": {},
   "outputs": [
    {
     "data": {
      "text/plain": [
       "0       0\n",
       "1       1\n",
       "2       2\n",
       "3       0\n",
       "4       0\n",
       "       ..\n",
       "7488    3\n",
       "7489    0\n",
       "7490    0\n",
       "7491    2\n",
       "7492    1\n",
       "Name: deltas, Length: 7493, dtype: int8"
      ]
     },
     "execution_count": 105,
     "metadata": {},
     "output_type": "execute_result"
    }
   ],
   "source": [
    "united['deltas']"
   ]
  },
  {
   "cell_type": "code",
   "execution_count": 106,
   "metadata": {},
   "outputs": [],
   "source": [
    "x = united.drop('deltas', axis=1)\n",
    "y = united['deltas']\n",
    "X_train, X_test, y_train, y_test = train_test_split(x, y, test_size=0.2, random_state=42)\n",
    "# #Scaling\n",
    "# scaler = StandardScaler()\n",
    "# scaler.fit(X_train)\n",
    "# X_train = scaler.transform(X_train)\n",
    "# X_test = scaler.transform(X_test)"
   ]
  },
  {
   "cell_type": "code",
   "execution_count": 107,
   "metadata": {},
   "outputs": [
    {
     "data": {
      "text/plain": [
       "2510    1\n",
       "4478    2\n",
       "6522    2\n",
       "1298    1\n",
       "426     1\n",
       "       ..\n",
       "5191    2\n",
       "5226    2\n",
       "5390    2\n",
       "860     1\n",
       "7270    1\n",
       "Name: deltas, Length: 5994, dtype: int8"
      ]
     },
     "execution_count": 107,
     "metadata": {},
     "output_type": "execute_result"
    }
   ],
   "source": [
    "y_train"
   ]
  },
  {
   "cell_type": "code",
   "execution_count": 108,
   "metadata": {},
   "outputs": [
    {
     "data": {
      "text/plain": [
       "GaussianNB(priors=None, var_smoothing=1e-09)"
      ]
     },
     "execution_count": 108,
     "metadata": {},
     "output_type": "execute_result"
    }
   ],
   "source": [
    "model = GaussianNB()\n",
    "model.fit(X_train, y_train)"
   ]
  },
  {
   "cell_type": "code",
   "execution_count": 109,
   "metadata": {},
   "outputs": [],
   "source": [
    "y_pred = model.predict(X_test)"
   ]
  },
  {
   "cell_type": "code",
   "execution_count": 110,
   "metadata": {},
   "outputs": [
    {
     "data": {
      "text/plain": [
       "array([0, 0, 3, ..., 0, 0, 0], dtype=int8)"
      ]
     },
     "execution_count": 110,
     "metadata": {},
     "output_type": "execute_result"
    }
   ],
   "source": [
    "y_pred"
   ]
  },
  {
   "cell_type": "code",
   "execution_count": 111,
   "metadata": {},
   "outputs": [],
   "source": [
    "accuracy = accuracy_score(y_test, y_pred)*100"
   ]
  },
  {
   "cell_type": "code",
   "execution_count": 112,
   "metadata": {},
   "outputs": [
    {
     "data": {
      "text/plain": [
       "25.617078052034692"
      ]
     },
     "execution_count": 112,
     "metadata": {},
     "output_type": "execute_result"
    }
   ],
   "source": [
    "accuracy"
   ]
  },
  {
   "cell_type": "code",
   "execution_count": null,
   "metadata": {},
   "outputs": [],
   "source": []
  }
 ],
 "metadata": {
  "kernelspec": {
   "display_name": "Python 3",
   "language": "python",
   "name": "python3"
  },
  "language_info": {
   "codemirror_mode": {
    "name": "ipython",
    "version": 3
   },
   "file_extension": ".py",
   "mimetype": "text/x-python",
   "name": "python",
   "nbconvert_exporter": "python",
   "pygments_lexer": "ipython3",
   "version": "3.7.4"
  }
 },
 "nbformat": 4,
 "nbformat_minor": 2
}
