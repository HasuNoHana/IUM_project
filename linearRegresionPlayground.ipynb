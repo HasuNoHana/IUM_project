{
 "cells": [
  {
   "cell_type": "code",
   "execution_count": 2,
   "metadata": {},
   "outputs": [],
   "source": [
    "from data_preprocessing.DataLoader import DataLoader\n",
    "from sklearn.model_selection import train_test_split\n",
    "from sklearn import linear_model\n",
    "import pandas as pd\n",
    "import datetime as dt\n",
    "from sklearn import preprocessing\n",
    "import matplotlib.pyplot as plt\n",
    "import numpy as np\n",
    "from sklearn import datasets, linear_model\n",
    "from data_preprocessing.DataLoader import DataLoader\n",
    "from sklearn.metrics import mean_squared_error, r2_score"
   ]
  },
  {
   "cell_type": "code",
   "execution_count": 3,
   "metadata": {},
   "outputs": [],
   "source": [
    "def unite_sets(deliveries, products, sessions, users):\n",
    "    deliveries[\"deltas\"] = deliveries[\"delivery_timestamp\"] - deliveries[\"purchase_timestamp\"]\n",
    "\n",
    "    # divide category\n",
    "    categories = products.category_path.str.split(';', expand=True)\n",
    "    products = pd.concat([products, categories], axis=1)\n",
    "    products = products.drop(columns=['category_path'])\n",
    "    products = products.rename(\n",
    "        columns={0: \"primary_category\", 1: \"secondary_category\", 2: \"tertiary_category\", 3: \"quaternary_category\"})\n",
    "\n",
    "\n",
    "    deliveries_sessions = pd.merge(deliveries, sessions, left_on=\"purchase_id\", right_on=\"purchase_id\")\n",
    "    deliveries_sessions_users = pd.merge(deliveries_sessions, users, left_on=\"user_id\", right_on=\"user_id\")\n",
    "    deliveries_sessions_users_products = pd.merge(deliveries_sessions_users, products, left_on=\"product_id\", right_on=\"product_id\")\n",
    "\n",
    "    deliveries_sessions_users_products.to_csv('../out.csv')\n",
    "    return deliveries_sessions_users_products"
   ]
  },
  {
   "cell_type": "code",
   "execution_count": 7,
   "metadata": {},
   "outputs": [
    {
     "name": "stdout",
     "output_type": "stream",
     "text": [
      "Coefficients: \n",
      " [-4.70502630e+01 -9.71171379e-01 -1.45451996e+03  3.19181889e+02\n",
      "  1.49569744e+03  1.41157456e+03 -2.43887404e+03 -6.42189360e+02\n",
      "  1.22221453e+03  8.69149368e+01 -1.19144687e+03  8.83259064e+02\n",
      "  2.36843073e+02  7.13447304e+01 -8.94728118e+02  1.31474100e+02\n",
      "  1.80030821e+03 -8.78039845e+02 -3.13407022e+02 -1.38828680e+03\n",
      "  5.30634971e+02  4.71237653e+02  2.59737592e+02  7.06335257e+02\n",
      " -4.25265999e+02  1.80030821e+03 -1.75644285e+03  1.44303582e+03\n",
      " -1.38828680e+03  1.26895807e+03  5.30634971e+02  1.31474100e+02\n",
      "  4.71237653e+02 -1.69422407e+03  9.61703062e+02 -1.85643118e+03\n",
      " -1.68847877e+03 -5.74530086e+00 -1.60918104e+03 -6.21312808e+01\n",
      "  1.67131232e+03]\n",
      "Mean squared error: 661574780.71\n",
      "Coefficient of determination: -0.01\n"
     ]
    }
   ],
   "source": [
    "d = DataLoader.load_data_from_path(\"newData\")\n",
    "\n",
    "products = d.products\n",
    "deliveries = d.deliveries\n",
    "sessions = d.sessions\n",
    "users = d.users\n",
    "\n",
    "unitated = unite_sets(deliveries, products, sessions, users)\n",
    "\n",
    "# nie wnosi zadnej informacji wiec wyrzucamy daną kolumnę\n",
    "unitated = unitated.loc[:, unitated.columns != 'event_type']\n",
    "unitated = unitated.loc[:, unitated.columns != 'name']\n",
    "unitated = unitated.loc[:, unitated.columns != 'street']\n",
    "unitated = unitated.loc[:, unitated.columns != 'product_name']\n",
    "unitated = unitated.loc[:, unitated.columns != 'delivery_timestamp']\n",
    "unitated = unitated.loc[:, unitated.columns != 'purchase_timestamp']\n",
    "unitated = unitated.loc[:, unitated.columns != 'timestamp']\n",
    "unitated = unitated.loc[:, unitated.columns != 'purchase_id']\n",
    "unitated = unitated.loc[:, unitated.columns != 'product_id']\n",
    "unitated = unitated.loc[:, unitated.columns != 'user_id']\n",
    "unitated = unitated.loc[:, unitated.columns != 'session_id']\n",
    "\n",
    "\n",
    "\n",
    "# unitated['purchase_timestamp'] = pd.to_datetime(unitated['purchase_timestamp'])\n",
    "# unitated['purchase_timestamp'] = unitated['purchase_timestamp'].map(dt.datetime.toordinal)\n",
    "#\n",
    "# unitated['delivery_timestamp'] = pd.to_datetime(unitated['delivery_timestamp'])\n",
    "# unitated['delivery_timestamp'] = unitated['delivery_timestamp'].map(dt.datetime.toordinal)\n",
    "#\n",
    "# unitated['timestamp'] = pd.to_datetime(unitated['timestamp'])\n",
    "# unitated['timestamp'] = unitated['timestamp'].map(dt.datetime.toordinal)\n",
    "\n",
    "\n",
    "# train['deltas'] = pd.to_datetime(train['deltas'])\n",
    "# train['deltas'] = train['deltas'].map(dt.datetime.toordinal)\n",
    "\n",
    "# tworzenie one hot encoding dla kolumny city\n",
    "y = pd.get_dummies(unitated.city, prefix='city')\n",
    "unitated = unitated.join(other=y)\n",
    "unitated = unitated.loc[:, unitated.columns != 'city']\n",
    "\n",
    "y = pd.get_dummies(unitated.primary_category, prefix='primary_category')\n",
    "unitated = unitated.join(other=y)\n",
    "unitated = unitated.loc[:, unitated.columns != 'primary_category']\n",
    "\n",
    "y = pd.get_dummies(unitated.secondary_category, prefix='secondary_category')\n",
    "unitated = unitated.join(other=y)\n",
    "unitated = unitated.loc[:, unitated.columns != 'secondary_category']\n",
    "\n",
    "y = pd.get_dummies(unitated.tertiary_category, prefix='tertiary_category')\n",
    "unitated = unitated.join(other=y)\n",
    "unitated = unitated.loc[:, unitated.columns != 'tertiary_category']\n",
    "\n",
    "y = pd.get_dummies(unitated.quaternary_category, prefix='quaternary_category')\n",
    "unitated = unitated.join(other=y)\n",
    "unitated = unitated.loc[:, unitated.columns != 'quaternary_category']\n",
    "\n",
    "y = pd.get_dummies(unitated.delivery_company, prefix='delivery_company')\n",
    "unitated = unitated.join(other=y)\n",
    "unitated = unitated.loc[:, unitated.columns != 'delivery_company']\n",
    "\n",
    "unitated['deltas'] = pd.to_numeric(unitated['deltas'].dt.seconds, downcast='integer')\n",
    "\n",
    "\n",
    "# normalizacja deltas\n",
    "# unitated['deltas'] = unitated['deltas'] /unitated['deltas'].abs().max()\n",
    "\n",
    "\n",
    "train, test = train_test_split(unitated, test_size=0.2)\n",
    "X_train = train.loc[:, train.columns != 'deltas']\n",
    "y_train = train['deltas']\n",
    "\n",
    "X_test = test.loc[:, test.columns != 'deltas']\n",
    "y_test = test['deltas']\n",
    "\n",
    "\n",
    "regr = linear_model.LinearRegression()\n",
    "regr.fit(X_train, y_train)\n",
    "y_pred = regr.predict(X_test)\n",
    "\n",
    "print('Coefficients: \\n', regr.coef_)\n",
    "print('Mean squared error: %.2f'\n",
    "% mean_squared_error(y_test, y_pred))\n",
    "print('Coefficient of determination: %.2f'\n",
    "% r2_score(y_test, y_pred))"
   ]
  },
  {
   "cell_type": "code",
   "execution_count": 8,
   "metadata": {},
   "outputs": [
    {
     "data": {
      "text/plain": [
       "pandas.core.series.Series"
      ]
     },
     "execution_count": 8,
     "metadata": {},
     "output_type": "execute_result"
    }
   ],
   "source": [
    "type(y_train)"
   ]
  },
  {
   "cell_type": "code",
   "execution_count": 9,
   "metadata": {},
   "outputs": [
    {
     "data": {
      "text/html": [
       "<div>\n",
       "<style scoped>\n",
       "    .dataframe tbody tr th:only-of-type {\n",
       "        vertical-align: middle;\n",
       "    }\n",
       "\n",
       "    .dataframe tbody tr th {\n",
       "        vertical-align: top;\n",
       "    }\n",
       "\n",
       "    .dataframe thead th {\n",
       "        text-align: right;\n",
       "    }\n",
       "</style>\n",
       "<table border=\"1\" class=\"dataframe\">\n",
       "  <thead>\n",
       "    <tr style=\"text-align: right;\">\n",
       "      <th></th>\n",
       "      <th>offered_discount</th>\n",
       "      <th>price</th>\n",
       "      <th>city_Gdynia</th>\n",
       "      <th>city_Konin</th>\n",
       "      <th>city_Kutno</th>\n",
       "      <th>city_Mielec</th>\n",
       "      <th>city_Police</th>\n",
       "      <th>city_Radom</th>\n",
       "      <th>city_Szczecin</th>\n",
       "      <th>city_Warszawa</th>\n",
       "      <th>...</th>\n",
       "      <th>tertiary_category_Słuchawki</th>\n",
       "      <th>tertiary_category_Tablety</th>\n",
       "      <th>tertiary_category_Telewizory i akcesoria</th>\n",
       "      <th>tertiary_category_Zestawy głośnomówiące</th>\n",
       "      <th>tertiary_category_Zestawy słuchawkowe</th>\n",
       "      <th>quaternary_category_Anteny RTV</th>\n",
       "      <th>quaternary_category_Okulary 3D</th>\n",
       "      <th>delivery_company_360</th>\n",
       "      <th>delivery_company_516</th>\n",
       "      <th>delivery_company_620</th>\n",
       "    </tr>\n",
       "  </thead>\n",
       "  <tbody>\n",
       "    <tr>\n",
       "      <td>4351</td>\n",
       "      <td>0</td>\n",
       "      <td>129.00</td>\n",
       "      <td>1</td>\n",
       "      <td>0</td>\n",
       "      <td>0</td>\n",
       "      <td>0</td>\n",
       "      <td>0</td>\n",
       "      <td>0</td>\n",
       "      <td>0</td>\n",
       "      <td>0</td>\n",
       "      <td>...</td>\n",
       "      <td>0</td>\n",
       "      <td>0</td>\n",
       "      <td>0</td>\n",
       "      <td>1</td>\n",
       "      <td>0</td>\n",
       "      <td>0</td>\n",
       "      <td>0</td>\n",
       "      <td>1</td>\n",
       "      <td>0</td>\n",
       "      <td>0</td>\n",
       "    </tr>\n",
       "    <tr>\n",
       "      <td>4326</td>\n",
       "      <td>0</td>\n",
       "      <td>129.00</td>\n",
       "      <td>0</td>\n",
       "      <td>0</td>\n",
       "      <td>0</td>\n",
       "      <td>0</td>\n",
       "      <td>0</td>\n",
       "      <td>0</td>\n",
       "      <td>0</td>\n",
       "      <td>1</td>\n",
       "      <td>...</td>\n",
       "      <td>0</td>\n",
       "      <td>0</td>\n",
       "      <td>0</td>\n",
       "      <td>1</td>\n",
       "      <td>0</td>\n",
       "      <td>0</td>\n",
       "      <td>0</td>\n",
       "      <td>0</td>\n",
       "      <td>1</td>\n",
       "      <td>0</td>\n",
       "    </tr>\n",
       "    <tr>\n",
       "      <td>6003</td>\n",
       "      <td>15</td>\n",
       "      <td>82.99</td>\n",
       "      <td>0</td>\n",
       "      <td>0</td>\n",
       "      <td>0</td>\n",
       "      <td>0</td>\n",
       "      <td>0</td>\n",
       "      <td>0</td>\n",
       "      <td>1</td>\n",
       "      <td>0</td>\n",
       "      <td>...</td>\n",
       "      <td>0</td>\n",
       "      <td>0</td>\n",
       "      <td>1</td>\n",
       "      <td>0</td>\n",
       "      <td>0</td>\n",
       "      <td>1</td>\n",
       "      <td>0</td>\n",
       "      <td>0</td>\n",
       "      <td>0</td>\n",
       "      <td>1</td>\n",
       "    </tr>\n",
       "    <tr>\n",
       "      <td>1141</td>\n",
       "      <td>0</td>\n",
       "      <td>99.99</td>\n",
       "      <td>0</td>\n",
       "      <td>0</td>\n",
       "      <td>0</td>\n",
       "      <td>0</td>\n",
       "      <td>0</td>\n",
       "      <td>0</td>\n",
       "      <td>1</td>\n",
       "      <td>0</td>\n",
       "      <td>...</td>\n",
       "      <td>0</td>\n",
       "      <td>0</td>\n",
       "      <td>1</td>\n",
       "      <td>0</td>\n",
       "      <td>0</td>\n",
       "      <td>0</td>\n",
       "      <td>1</td>\n",
       "      <td>0</td>\n",
       "      <td>1</td>\n",
       "      <td>0</td>\n",
       "    </tr>\n",
       "    <tr>\n",
       "      <td>6156</td>\n",
       "      <td>0</td>\n",
       "      <td>59.90</td>\n",
       "      <td>1</td>\n",
       "      <td>0</td>\n",
       "      <td>0</td>\n",
       "      <td>0</td>\n",
       "      <td>0</td>\n",
       "      <td>0</td>\n",
       "      <td>0</td>\n",
       "      <td>0</td>\n",
       "      <td>...</td>\n",
       "      <td>0</td>\n",
       "      <td>0</td>\n",
       "      <td>0</td>\n",
       "      <td>0</td>\n",
       "      <td>0</td>\n",
       "      <td>0</td>\n",
       "      <td>0</td>\n",
       "      <td>1</td>\n",
       "      <td>0</td>\n",
       "      <td>0</td>\n",
       "    </tr>\n",
       "    <tr>\n",
       "      <td>...</td>\n",
       "      <td>...</td>\n",
       "      <td>...</td>\n",
       "      <td>...</td>\n",
       "      <td>...</td>\n",
       "      <td>...</td>\n",
       "      <td>...</td>\n",
       "      <td>...</td>\n",
       "      <td>...</td>\n",
       "      <td>...</td>\n",
       "      <td>...</td>\n",
       "      <td>...</td>\n",
       "      <td>...</td>\n",
       "      <td>...</td>\n",
       "      <td>...</td>\n",
       "      <td>...</td>\n",
       "      <td>...</td>\n",
       "      <td>...</td>\n",
       "      <td>...</td>\n",
       "      <td>...</td>\n",
       "      <td>...</td>\n",
       "      <td>...</td>\n",
       "    </tr>\n",
       "    <tr>\n",
       "      <td>4797</td>\n",
       "      <td>0</td>\n",
       "      <td>79.90</td>\n",
       "      <td>0</td>\n",
       "      <td>0</td>\n",
       "      <td>0</td>\n",
       "      <td>0</td>\n",
       "      <td>0</td>\n",
       "      <td>1</td>\n",
       "      <td>0</td>\n",
       "      <td>0</td>\n",
       "      <td>...</td>\n",
       "      <td>0</td>\n",
       "      <td>0</td>\n",
       "      <td>0</td>\n",
       "      <td>0</td>\n",
       "      <td>0</td>\n",
       "      <td>0</td>\n",
       "      <td>0</td>\n",
       "      <td>1</td>\n",
       "      <td>0</td>\n",
       "      <td>0</td>\n",
       "    </tr>\n",
       "    <tr>\n",
       "      <td>7421</td>\n",
       "      <td>0</td>\n",
       "      <td>3777.00</td>\n",
       "      <td>0</td>\n",
       "      <td>0</td>\n",
       "      <td>0</td>\n",
       "      <td>0</td>\n",
       "      <td>1</td>\n",
       "      <td>0</td>\n",
       "      <td>0</td>\n",
       "      <td>0</td>\n",
       "      <td>...</td>\n",
       "      <td>0</td>\n",
       "      <td>0</td>\n",
       "      <td>0</td>\n",
       "      <td>0</td>\n",
       "      <td>0</td>\n",
       "      <td>0</td>\n",
       "      <td>0</td>\n",
       "      <td>0</td>\n",
       "      <td>0</td>\n",
       "      <td>1</td>\n",
       "    </tr>\n",
       "    <tr>\n",
       "      <td>4789</td>\n",
       "      <td>0</td>\n",
       "      <td>79.90</td>\n",
       "      <td>0</td>\n",
       "      <td>0</td>\n",
       "      <td>0</td>\n",
       "      <td>0</td>\n",
       "      <td>1</td>\n",
       "      <td>0</td>\n",
       "      <td>0</td>\n",
       "      <td>0</td>\n",
       "      <td>...</td>\n",
       "      <td>0</td>\n",
       "      <td>0</td>\n",
       "      <td>0</td>\n",
       "      <td>0</td>\n",
       "      <td>0</td>\n",
       "      <td>0</td>\n",
       "      <td>0</td>\n",
       "      <td>0</td>\n",
       "      <td>1</td>\n",
       "      <td>0</td>\n",
       "    </tr>\n",
       "    <tr>\n",
       "      <td>719</td>\n",
       "      <td>20</td>\n",
       "      <td>58.97</td>\n",
       "      <td>0</td>\n",
       "      <td>0</td>\n",
       "      <td>0</td>\n",
       "      <td>0</td>\n",
       "      <td>0</td>\n",
       "      <td>0</td>\n",
       "      <td>1</td>\n",
       "      <td>0</td>\n",
       "      <td>...</td>\n",
       "      <td>0</td>\n",
       "      <td>0</td>\n",
       "      <td>0</td>\n",
       "      <td>0</td>\n",
       "      <td>0</td>\n",
       "      <td>0</td>\n",
       "      <td>0</td>\n",
       "      <td>1</td>\n",
       "      <td>0</td>\n",
       "      <td>0</td>\n",
       "    </tr>\n",
       "    <tr>\n",
       "      <td>3507</td>\n",
       "      <td>15</td>\n",
       "      <td>32.99</td>\n",
       "      <td>0</td>\n",
       "      <td>0</td>\n",
       "      <td>0</td>\n",
       "      <td>0</td>\n",
       "      <td>0</td>\n",
       "      <td>1</td>\n",
       "      <td>0</td>\n",
       "      <td>0</td>\n",
       "      <td>...</td>\n",
       "      <td>0</td>\n",
       "      <td>0</td>\n",
       "      <td>0</td>\n",
       "      <td>0</td>\n",
       "      <td>0</td>\n",
       "      <td>0</td>\n",
       "      <td>0</td>\n",
       "      <td>0</td>\n",
       "      <td>1</td>\n",
       "      <td>0</td>\n",
       "    </tr>\n",
       "  </tbody>\n",
       "</table>\n",
       "<p>5994 rows × 41 columns</p>\n",
       "</div>"
      ],
      "text/plain": [
       "      offered_discount    price  city_Gdynia  city_Konin  city_Kutno  \\\n",
       "4351                 0   129.00            1           0           0   \n",
       "4326                 0   129.00            0           0           0   \n",
       "6003                15    82.99            0           0           0   \n",
       "1141                 0    99.99            0           0           0   \n",
       "6156                 0    59.90            1           0           0   \n",
       "...                ...      ...          ...         ...         ...   \n",
       "4797                 0    79.90            0           0           0   \n",
       "7421                 0  3777.00            0           0           0   \n",
       "4789                 0    79.90            0           0           0   \n",
       "719                 20    58.97            0           0           0   \n",
       "3507                15    32.99            0           0           0   \n",
       "\n",
       "      city_Mielec  city_Police  city_Radom  city_Szczecin  city_Warszawa  ...  \\\n",
       "4351            0            0           0              0              0  ...   \n",
       "4326            0            0           0              0              1  ...   \n",
       "6003            0            0           0              1              0  ...   \n",
       "1141            0            0           0              1              0  ...   \n",
       "6156            0            0           0              0              0  ...   \n",
       "...           ...          ...         ...            ...            ...  ...   \n",
       "4797            0            0           1              0              0  ...   \n",
       "7421            0            1           0              0              0  ...   \n",
       "4789            0            1           0              0              0  ...   \n",
       "719             0            0           0              1              0  ...   \n",
       "3507            0            0           1              0              0  ...   \n",
       "\n",
       "      tertiary_category_Słuchawki  tertiary_category_Tablety  \\\n",
       "4351                            0                          0   \n",
       "4326                            0                          0   \n",
       "6003                            0                          0   \n",
       "1141                            0                          0   \n",
       "6156                            0                          0   \n",
       "...                           ...                        ...   \n",
       "4797                            0                          0   \n",
       "7421                            0                          0   \n",
       "4789                            0                          0   \n",
       "719                             0                          0   \n",
       "3507                            0                          0   \n",
       "\n",
       "      tertiary_category_Telewizory i akcesoria  \\\n",
       "4351                                         0   \n",
       "4326                                         0   \n",
       "6003                                         1   \n",
       "1141                                         1   \n",
       "6156                                         0   \n",
       "...                                        ...   \n",
       "4797                                         0   \n",
       "7421                                         0   \n",
       "4789                                         0   \n",
       "719                                          0   \n",
       "3507                                         0   \n",
       "\n",
       "      tertiary_category_Zestawy głośnomówiące  \\\n",
       "4351                                        1   \n",
       "4326                                        1   \n",
       "6003                                        0   \n",
       "1141                                        0   \n",
       "6156                                        0   \n",
       "...                                       ...   \n",
       "4797                                        0   \n",
       "7421                                        0   \n",
       "4789                                        0   \n",
       "719                                         0   \n",
       "3507                                        0   \n",
       "\n",
       "      tertiary_category_Zestawy słuchawkowe  quaternary_category_Anteny RTV  \\\n",
       "4351                                      0                               0   \n",
       "4326                                      0                               0   \n",
       "6003                                      0                               1   \n",
       "1141                                      0                               0   \n",
       "6156                                      0                               0   \n",
       "...                                     ...                             ...   \n",
       "4797                                      0                               0   \n",
       "7421                                      0                               0   \n",
       "4789                                      0                               0   \n",
       "719                                       0                               0   \n",
       "3507                                      0                               0   \n",
       "\n",
       "      quaternary_category_Okulary 3D  delivery_company_360  \\\n",
       "4351                               0                     1   \n",
       "4326                               0                     0   \n",
       "6003                               0                     0   \n",
       "1141                               1                     0   \n",
       "6156                               0                     1   \n",
       "...                              ...                   ...   \n",
       "4797                               0                     1   \n",
       "7421                               0                     0   \n",
       "4789                               0                     0   \n",
       "719                                0                     1   \n",
       "3507                               0                     0   \n",
       "\n",
       "      delivery_company_516  delivery_company_620  \n",
       "4351                     0                     0  \n",
       "4326                     1                     0  \n",
       "6003                     0                     1  \n",
       "1141                     1                     0  \n",
       "6156                     0                     0  \n",
       "...                    ...                   ...  \n",
       "4797                     0                     0  \n",
       "7421                     0                     1  \n",
       "4789                     1                     0  \n",
       "719                      0                     0  \n",
       "3507                     1                     0  \n",
       "\n",
       "[5994 rows x 41 columns]"
      ]
     },
     "execution_count": 9,
     "metadata": {},
     "output_type": "execute_result"
    }
   ],
   "source": [
    "X_train"
   ]
  },
  {
   "cell_type": "code",
   "execution_count": 10,
   "metadata": {},
   "outputs": [
    {
     "data": {
      "text/plain": [
       "array([85846, 71061, 73995, ..., 53124, 41948, 61486], dtype=int32)"
      ]
     },
     "execution_count": 10,
     "metadata": {},
     "output_type": "execute_result"
    }
   ],
   "source": [
    "y_test.to_numpy()"
   ]
  },
  {
   "cell_type": "code",
   "execution_count": 11,
   "metadata": {},
   "outputs": [
    {
     "data": {
      "text/plain": [
       "(1499,)"
      ]
     },
     "execution_count": 11,
     "metadata": {},
     "output_type": "execute_result"
    }
   ],
   "source": [
    "y_pred.shape"
   ]
  },
  {
   "cell_type": "code",
   "execution_count": 12,
   "metadata": {},
   "outputs": [
    {
     "data": {
      "text/plain": [
       "788     85846\n",
       "2076    71061\n",
       "229     73995\n",
       "671     60057\n",
       "6005    32305\n",
       "2940    65925\n",
       "3603    36749\n",
       "3862    12945\n",
       "1777    45376\n",
       "5314    72028\n",
       "Name: deltas, dtype: int32"
      ]
     },
     "execution_count": 12,
     "metadata": {},
     "output_type": "execute_result"
    }
   ],
   "source": [
    "y_test[0:10]"
   ]
  },
  {
   "cell_type": "code",
   "execution_count": 13,
   "metadata": {},
   "outputs": [
    {
     "data": {
      "text/plain": [
       "array([45645.18616965, 44769.76889836, 46242.48657495, 44236.90130644,\n",
       "       41546.53579149, 44755.58589324, 44236.8826751 , 41463.62059432,\n",
       "       48399.06745474, 44601.13904205])"
      ]
     },
     "execution_count": 13,
     "metadata": {},
     "output_type": "execute_result"
    }
   ],
   "source": [
    "y_pred[0:10]"
   ]
  },
  {
   "cell_type": "code",
   "execution_count": 14,
   "metadata": {},
   "outputs": [
    {
     "data": {
      "text/plain": [
       "788     40200.813830\n",
       "2076    26291.231102\n",
       "229     27752.513425\n",
       "671     15820.098694\n",
       "6005    -9241.535791\n",
       "2940    21169.414107\n",
       "3603    -7487.882675\n",
       "3862   -28518.620594\n",
       "1777    -3023.067455\n",
       "5314    27426.860958\n",
       "Name: deltas, dtype: float64"
      ]
     },
     "execution_count": 14,
     "metadata": {},
     "output_type": "execute_result"
    }
   ],
   "source": [
    "y_test[0:10]-y_pred[0:10]"
   ]
  },
  {
   "cell_type": "code",
   "execution_count": 15,
   "metadata": {},
   "outputs": [
    {
     "data": {
      "text/plain": [
       "[<matplotlib.lines.Line2D at 0x7f21c484c8d0>]"
      ]
     },
     "execution_count": 15,
     "metadata": {},
     "output_type": "execute_result"
    },
    {
     "data": {
      "image/png": "[encoded data removed]",
      "text/plain": [
       "<Figure size 432x288 with 1 Axes>"
      ]
     },
     "metadata": {
      "needs_background": "light"
     },
     "output_type": "display_data"
    }
   ],
   "source": [
    "plt.plot(y_pred,\".\")"
   ]
  },
  {
   "cell_type": "code",
   "execution_count": 16,
   "metadata": {},
   "outputs": [
    {
     "data": {
      "text/plain": [
       "[<matplotlib.lines.Line2D at 0x7f21c4cd2590>]"
      ]
     },
     "execution_count": 16,
     "metadata": {},
     "output_type": "execute_result"
    },
    {
     "data": {
      "image/png": "[encoded data removed]",
      "text/plain": [
       "<Figure size 432x288 with 1 Axes>"
      ]
     },
     "metadata": {
      "needs_background": "light"
     },
     "output_type": "display_data"
    }
   ],
   "source": [
    "plt.plot(y_test,\".\")"
   ]
  },
  {
   "cell_type": "code",
   "execution_count": 17,
   "metadata": {},
   "outputs": [
    {
     "data": {
      "text/plain": [
       "<function matplotlib.pyplot.show(*args, **kw)>"
      ]
     },
     "execution_count": 17,
     "metadata": {},
     "output_type": "execute_result"
    },
    {
     "data": {
      "image/png": "[encoded data removed]",
      "text/plain": [
       "<Figure size 432x288 with 1 Axes>"
      ]
     },
     "metadata": {
      "needs_background": "light"
     },
     "output_type": "display_data"
    }
   ],
   "source": [
    "plt.plot(y_pred, y_test,\".\")\n",
    "plt.title(\"Depencencies between Predicted and Real Values\")\n",
    "plt.xlabel(\"Predictions\")\n",
    "plt.ylabel(\"Reality\")\n",
    "plt.show"
   ]
  },
  {
   "cell_type": "code",
   "execution_count": null,
   "metadata": {},
   "outputs": [],
   "source": []
  },
  {
   "cell_type": "code",
   "execution_count": null,
   "metadata": {},
   "outputs": [],
   "source": []
  }
 ],
 "metadata": {
  "kernelspec": {
   "display_name": "Python 3",
   "language": "python",
   "name": "python3"
  },
  "language_info": {
   "codemirror_mode": {
    "name": "ipython",
    "version": 3
   },
   "file_extension": ".py",
   "mimetype": "text/x-python",
   "name": "python",
   "nbconvert_exporter": "python",
   "pygments_lexer": "ipython3",
   "version": "3.7.4"
  }
 },
 "nbformat": 4,
 "nbformat_minor": 2
}
