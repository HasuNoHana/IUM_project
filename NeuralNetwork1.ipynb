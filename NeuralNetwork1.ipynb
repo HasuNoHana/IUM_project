{
 "cells": [
  {
   "cell_type": "code",
   "execution_count": 46,
   "metadata": {},
   "outputs": [],
   "source": [
    "from sklearn.model_selection import train_test_split\n",
    "from sklearn import preprocessing\n",
    "from sklearn.preprocessing import StandardScaler\n",
    "from sklearn.neural_network import MLPClassifier\n",
    "from sklearn.metrics import mean_squared_error, r2_score\n",
    "\n",
    "import pandas as pd\n",
    "import datetime as dt\n",
    "\n",
    "import matplotlib.pyplot as plt\n",
    "import numpy as np\n",
    "\n",
    "from data_preprocessing.DataLoader import DataLoader"
   ]
  },
  {
   "cell_type": "code",
   "execution_count": 47,
   "metadata": {},
   "outputs": [],
   "source": [
    "d = DataLoader.load_data_from_path(\"data/data_new\")"
   ]
  },
  {
   "cell_type": "code",
   "execution_count": 48,
   "metadata": {},
   "outputs": [],
   "source": [
    "def unite_sets(deliveries, products, sessions, users):\n",
    "    deliveries[\"deltas\"] = deliveries[\"delivery_timestamp\"] - deliveries[\"purchase_timestamp\"]\n",
    "\n",
    "    # divide category\n",
    "    categories = products.category_path.str.split(';', expand=True)\n",
    "    products = pd.concat([products, categories], axis=1)\n",
    "    products = products.drop(columns=['category_path'])\n",
    "    products = products.rename(\n",
    "        columns={0: \"primary_category\", 1: \"secondary_category\", 2: \"tertiary_category\", 3: \"quaternary_category\"})\n",
    "\n",
    "\n",
    "    deliveries_sessions = pd.merge(deliveries, sessions, left_on=\"purchase_id\", right_on=\"purchase_id\")\n",
    "    deliveries_sessions_users = pd.merge(deliveries_sessions, users, left_on=\"user_id\", right_on=\"user_id\")\n",
    "    deliveries_sessions_users_products = pd.merge(deliveries_sessions_users, products, left_on=\"product_id\", right_on=\"product_id\")\n",
    "\n",
    "    deliveries_sessions_users_products.to_csv('../out.csv')\n",
    "    return deliveries_sessions_users_products"
   ]
  },
  {
   "cell_type": "code",
   "execution_count": 49,
   "metadata": {},
   "outputs": [],
   "source": [
    "#Function for labeling rows\n",
    "def labelTimeOfDay(row):\n",
    "    hour = row['purchase_timestamp'].hour\n",
    "    if(hour >= 6 and hour < 12):\n",
    "        return \"Morning\"\n",
    "    elif(hour >= 12 and hour < 18):\n",
    "        return \"Afternoon\"\n",
    "    elif(hour >=18 and hour < 24):\n",
    "        return \"Evening\"\n",
    "    else:\n",
    "        return \"Night\""
   ]
  },
  {
   "cell_type": "code",
   "execution_count": 50,
   "metadata": {},
   "outputs": [],
   "source": [
    "d = DataLoader.load_data_from_path(\"data/data_new\")\n",
    "\n",
    "products = d.products\n",
    "deliveries = d.deliveries\n",
    "sessions = d.sessions\n",
    "users = d.users\n",
    "\n",
    "united = unite_sets(deliveries, products, sessions, users)"
   ]
  },
  {
   "cell_type": "code",
   "execution_count": 51,
   "metadata": {},
   "outputs": [],
   "source": [
    "# nie wnosi zadnej informacji wiec wyrzucamy daną kolumnę\n",
    "united = united.loc[:, united.columns != 'event_type']\n",
    "united = united.loc[:, united.columns != 'name']\n",
    "united = united.loc[:, united.columns != 'street']\n",
    "united = united.loc[:, united.columns != 'product_name']\n",
    "united = united.loc[:, united.columns != 'delivery_timestamp']\n",
    "united = united.loc[:, united.columns != 'timestamp']\n",
    "united = united.loc[:, united.columns != 'purchase_id']\n",
    "united = united.loc[:, united.columns != 'product_id']\n",
    "united = united.loc[:, united.columns != 'user_id']\n",
    "united = united.loc[:, united.columns != 'session_id']\n",
    "united = united.loc[:, united.columns != 'offered_discount']\n",
    "united = united.loc[:, united.columns != 'price']\n",
    "united = united.loc[:, united.columns != 'primary_category']\n",
    "united = united.loc[:, united.columns != 'secondary_category']\n",
    "united = united.loc[:, united.columns != 'tertiary_category']\n",
    "united = united.loc[:, united.columns != 'quaternary_category']\n",
    "\n",
    "united.loc[:,'time_of_day'] = united.apply(lambda row: labelTimeOfDay(row), axis=1)\n",
    "united['weekday'] = united['purchase_timestamp'].dt.day_name()\n",
    "united = united.loc[:, united.columns != 'purchase_timestamp']"
   ]
  },
  {
   "cell_type": "code",
   "execution_count": 52,
   "metadata": {},
   "outputs": [],
   "source": [
    "y = pd.get_dummies(united.city, prefix='city')\n",
    "united = united.join(other=y)\n",
    "united = united.loc[:, united.columns != 'city']\n",
    "\n",
    "y = pd.get_dummies(united.delivery_company, prefix='delivery_company')\n",
    "united = united.join(other=y)\n",
    "united = united.loc[:, united.columns != 'delivery_company']\n",
    "\n",
    "y = pd.get_dummies(united.time_of_day, prefix='time_of_day')\n",
    "united = united.join(other=y)\n",
    "united = united.loc[:, united.columns != 'time_of_day']\n",
    "\n",
    "y = pd.get_dummies(united.weekday, prefix='weekday')\n",
    "united = united.join(other=y)\n",
    "united = united.loc[:, united.columns != 'weekday']\n",
    "\n",
    "united['deltas'] = pd.to_numeric(united['deltas'].dt.days, downcast='integer')"
   ]
  },
  {
   "cell_type": "code",
   "execution_count": 53,
   "metadata": {},
   "outputs": [],
   "source": [
    "target_column = ['deltas'] \n",
    "predictors = list(set(list(united.columns))-set(target_column))\n",
    "# united[predictors] = united[predictors]/united[predictors].max()\n",
    "# united.describe().transpose()"
   ]
  },
  {
   "cell_type": "code",
   "execution_count": 56,
   "metadata": {},
   "outputs": [],
   "source": [
    "X = united[predictors].values\n",
    "y = united[target_column].values\n",
    "X_train, X_test, y_train, y_test = train_test_split(X, y, test_size=0.30, random_state=40)\n",
    "\n",
    "#Scaling\n",
    "scaler = StandardScaler()\n",
    "scaler.fit(X_train)\n",
    "X_train = scaler.transform(X_train)\n",
    "X_test = scaler.transform(X_test)\n"
   ]
  },
  {
   "cell_type": "code",
   "execution_count": 57,
   "metadata": {},
   "outputs": [],
   "source": [
    "sizePred = len(predictors)\n",
    "mlpClassifier = MLPClassifier(hidden_layer_sizes=(sizePred,sizePred,sizePred), activation='relu', solver='adam', max_iter=500)\n",
    "mlpClassifier.fit(X_train,y_train.ravel())\n",
    "\n",
    "predict_train = mlpClassifier.predict(X_train)\n",
    "predict_test = mlpClassifier.predict(X_test)"
   ]
  },
  {
   "cell_type": "code",
   "execution_count": 58,
   "metadata": {},
   "outputs": [
    {
     "name": "stdout",
     "output_type": "stream",
     "text": [
      "[[ 505  269   49    0    0]\n",
      " [ 172 1876  344   34    0]\n",
      " [  30  252 1141   62    2]\n",
      " [   1   38  122  297    4]\n",
      " [   0    0   15   10   22]]\n",
      "              precision    recall  f1-score   support\n",
      "\n",
      "           0       0.71      0.61      0.66       823\n",
      "           1       0.77      0.77      0.77      2426\n",
      "           2       0.68      0.77      0.72      1487\n",
      "           3       0.74      0.64      0.69       462\n",
      "           4       0.79      0.47      0.59        47\n",
      "\n",
      "    accuracy                           0.73      5245\n",
      "   macro avg       0.74      0.65      0.69      5245\n",
      "weighted avg       0.73      0.73      0.73      5245\n",
      "\n"
     ]
    }
   ],
   "source": [
    "from sklearn.metrics import classification_report,confusion_matrix\n",
    "\n",
    "#Evaluate predictions for train data\n",
    "print(confusion_matrix(y_train,predict_train))\n",
    "print(classification_report(y_train,predict_train))\n"
   ]
  },
  {
   "cell_type": "code",
   "execution_count": 59,
   "metadata": {},
   "outputs": [
    {
     "name": "stdout",
     "output_type": "stream",
     "text": [
      "[[191 115  20   1   0]\n",
      " [105 790 146  13   0]\n",
      " [ 14 140 460  31   2]\n",
      " [  0  23  69 102   3]\n",
      " [  0   0   5   4  14]]\n",
      "              precision    recall  f1-score   support\n",
      "\n",
      "           0       0.62      0.58      0.60       327\n",
      "           1       0.74      0.75      0.74      1054\n",
      "           2       0.66      0.71      0.68       647\n",
      "           3       0.68      0.52      0.59       197\n",
      "           4       0.74      0.61      0.67        23\n",
      "\n",
      "    accuracy                           0.69      2248\n",
      "   macro avg       0.69      0.63      0.66      2248\n",
      "weighted avg       0.69      0.69      0.69      2248\n",
      "\n"
     ]
    }
   ],
   "source": [
    "#Evaluate predictions for test data\n",
    "print(confusion_matrix(y_test,predict_test))\n",
    "print(classification_report(y_test,predict_test))"
   ]
  }
 ],
 "metadata": {
  "kernelspec": {
   "display_name": "Python 3",
   "language": "python",
   "name": "python3"
  },
  "language_info": {
   "codemirror_mode": {
    "name": "ipython",
    "version": 3
   },
   "file_extension": ".py",
   "mimetype": "text/x-python",
   "name": "python",
   "nbconvert_exporter": "python",
   "pygments_lexer": "ipython3",
   "version": "3.9.4"
  }
 },
 "nbformat": 4,
 "nbformat_minor": 2
}
