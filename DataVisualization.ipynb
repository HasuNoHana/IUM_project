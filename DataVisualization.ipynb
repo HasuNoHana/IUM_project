{
 "cells": [
  {
   "cell_type": "code",
   "execution_count": null,
   "metadata": {},
   "outputs": [],
   "source": [
    "from data_preprocessing.DataLoader import DataLoader\n",
    "import pandas as pd\n",
    "import matplotlib.pyplot as plt\n",
    "import calendar"
   ]
  },
  {
   "cell_type": "code",
   "execution_count": null,
   "metadata": {},
   "outputs": [],
   "source": [
    "d = DataLoader.load_data_from_path(\"data/data_new\")"
   ]
  },
  {
   "source": [
    "products = d.products"
   ],
   "cell_type": "code",
   "metadata": {},
   "execution_count": null,
   "outputs": []
  },
  {
   "cell_type": "code",
   "execution_count": null,
   "metadata": {},
   "outputs": [],
   "source": [
    "# Splitting category_path into smaller categories, so it can be easier to group them and analyze each category separately\n",
    "\n",
    "categories = products.category_path.str.split(';', expand=True)\n",
    "products = pd.concat([products, categories], axis=1)\n",
    "products = products.drop(columns=['category_path'])\n",
    "products = products.rename(columns= {0: \"primary_category\", 1 :\"secondary_category\", 2 : \"tertiary_category\", 3 : \"quaternary_category\"})\n",
    "products['price'] = products['price'].abs()\n",
    "print(products.quaternary_category)"
   ]
  },
  {
   "cell_type": "code",
   "execution_count": null,
   "metadata": {},
   "outputs": [],
   "source": [
    "products.dtypes"
   ]
  },
  {
   "cell_type": "code",
   "execution_count": null,
   "metadata": {},
   "outputs": [],
   "source": [
    "products.describe()"
   ]
  },
  {
   "cell_type": "code",
   "execution_count": null,
   "metadata": {},
   "outputs": [],
   "source": [
    "deliveries = d.deliveries"
   ]
  },
  {
   "cell_type": "code",
   "execution_count": null,
   "metadata": {},
   "outputs": [],
   "source": [
    "deliveries"
   ]
  },
  {
   "cell_type": "code",
   "execution_count": null,
   "metadata": {},
   "outputs": [],
   "source": [
    "deliveries.dtypes"
   ]
  },
  {
   "cell_type": "code",
   "execution_count": null,
   "metadata": {},
   "outputs": [],
   "source": [
    "deliveries"
   ]
  },
  {
   "cell_type": "code",
   "execution_count": null,
   "metadata": {},
   "outputs": [],
   "source": [
    "deliveries.loc[deliveries[\"delivery_company\"].isnull(),[\"delivery_company\"]] = \"Empty\"\n",
    "# deliveries[\"delivery_company\"].isnull()=\"Empty\""
   ]
  },
  {
   "cell_type": "code",
   "execution_count": null,
   "metadata": {
    "tags": [
     "outputPrepend"
    ]
   },
   "outputs": [],
   "source": [
    "print(deliveries.to_string())"
   ]
  },
  {
   "cell_type": "code",
   "execution_count": null,
   "metadata": {},
   "outputs": [],
   "source": [
    "#count difference between ordering and delivering\n",
    "deltas =  deliveries.delivery_timestamp - deliveries.purchase_timestamp "
   ]
  },
  {
   "cell_type": "code",
   "execution_count": null,
   "metadata": {},
   "outputs": [],
   "source": [
    "#get rid of None values\n",
    "deltas_clean = deltas.dropna()"
   ]
  },
  {
   "cell_type": "code",
   "execution_count": null,
   "metadata": {},
   "outputs": [],
   "source": [
    "deltas_clean"
   ]
  },
  {
   "cell_type": "code",
   "execution_count": null,
   "metadata": {},
   "outputs": [],
   "source": [
    "#take absolute values from cleand data deltas\n",
    "deltas_clean_abs = deltas_clean.abs()"
   ]
  },
  {
   "cell_type": "code",
   "execution_count": null,
   "metadata": {},
   "outputs": [],
   "source": [
    "#delivery time without absolute values\n",
    "deltas_clean.astype('timedelta64[D]').plot.hist(bins = 10)"
   ]
  },
  {
   "cell_type": "code",
   "execution_count": null,
   "metadata": {},
   "outputs": [],
   "source": [
    "#delivery time without negative values\n",
    "deltas_clean[deltas_clean>= pd.Timedelta(0)].astype('timedelta64[D]').plot.hist(bins = 10)"
   ]
  },
  {
   "cell_type": "code",
   "execution_count": null,
   "metadata": {},
   "outputs": [],
   "source": [
    "#delivery time with absolute values\n",
    "deltas_clean_abs.astype('timedelta64[D]').plot.hist(bins = 10)"
   ]
  },
  {
   "cell_type": "code",
   "execution_count": null,
   "metadata": {},
   "outputs": [],
   "source": [
    "deliveries[\"deltas\"] = deltas.astype('timedelta64[D]')"
   ]
  },
  {
   "cell_type": "code",
   "execution_count": null,
   "metadata": {},
   "outputs": [],
   "source": [
    "deliveries_clean = deliveries.dropna()"
   ]
  },
  {
   "cell_type": "code",
   "execution_count": null,
   "metadata": {},
   "outputs": [],
   "source": [
    "import numpy as np"
   ]
  },
  {
   "cell_type": "code",
   "execution_count": null,
   "metadata": {},
   "outputs": [],
   "source": [
    "#mean and standard variation of each company's delivery duration\n",
    "deliveries_clean.groupby(\"delivery_company\")[\"deltas\"].agg([np.mean,np.std])"
   ]
  },
  {
   "cell_type": "code",
   "execution_count": null,
   "metadata": {},
   "outputs": [],
   "source": [
    "deliveries_clean.boxplot(column=\"deltas\",by='delivery_company',figsize=(10,10))"
   ]
  },
  {
   "cell_type": "code",
   "execution_count": null,
   "metadata": {},
   "outputs": [],
   "source": [
    "deliveries.describe()"
   ]
  },
  {
   "cell_type": "code",
   "execution_count": null,
   "metadata": {},
   "outputs": [],
   "source": [
    "# Client location analysis - knowing where clients live is crucial to estimate delivery time\n",
    "# The smaller the city is, the delivery time gets longer\n",
    "cityCount = d.users.groupby('city', as_index=False).user_id.count()\n",
    "plt.figure(figsize=(10, 8))\n",
    "plt.bar(cityCount.city, cityCount.user_id, color='#BE5D77')\n",
    "plt.title(\"User count by city\")\n",
    "plt.xlabel(\"Cities\")\n",
    "plt.ylabel(\"User count\")"
   ]
  },
  {
   "cell_type": "code",
   "execution_count": null,
   "metadata": {},
   "outputs": [],
   "source": [
    "# Joining dataframes to further use in other plots\n",
    "# We want to check whether there is a relationship between cities and delivery time.\n",
    "deliveries_ses_user = deliveries_clean.merge(d.sessions[['user_id', 'purchase_id', 'product_id']], on='purchase_id')\n",
    "deliveries_ses_user = deliveries_ses_user.merge(d.users[['user_id','city']], on='user_id')"
   ]
  },
  {
   "cell_type": "code",
   "execution_count": null,
   "metadata": {},
   "outputs": [],
   "source": [
    "deliveries_ses_user.boxplot(column=\"deltas\",by='city',figsize=(10,10))"
   ]
  },
  {
   "cell_type": "code",
   "execution_count": null,
   "metadata": {},
   "outputs": [],
   "source": [
    "# Turned out boxplots weren't helpful so we check the mean for each city\n",
    "deliveries_city = deliveries_ses_user.groupby('city', as_index=False).deltas.mean()\n",
    "plt.figure(figsize=(10, 8))\n",
    "plt.bar(deliveries_city.city, deliveries_city.deltas, color='#BE5D77')\n",
    "plt.title(\"Delivery mean by city\")\n",
    "plt.xlabel(\"Cities\")\n",
    "plt.ylabel(\"Deliveries mean\")"
   ]
  },
  {
   "cell_type": "code",
   "execution_count": null,
   "metadata": {},
   "outputs": [],
   "source": [
    "#Joining products dataframe to check the relationship between delivery time and product category.\n",
    "deliveries_ses_user_prod = deliveries_ses_user.merge(products, on='product_id')\n"
   ]
  },
  {
   "cell_type": "code",
   "execution_count": null,
   "metadata": {},
   "outputs": [],
   "source": [
    "deliveries_ses_user_prod.boxplot(column=\"deltas\",by='primary_category',figsize=(10,10))"
   ]
  },
  {
   "cell_type": "code",
   "execution_count": null,
   "metadata": {},
   "outputs": [],
   "source": [
    "#Checking the mean for categories as well\n",
    "deliveries_category = deliveries_ses_user_prod.groupby('primary_category', as_index=False).deltas.mean()\n",
    "plt.figure(figsize=(10, 8))\n",
    "plt.bar(deliveries_category.primary_category, deliveries_category.deltas, color='#BE5D77')\n",
    "plt.title(\"Delivery mean by category\")\n",
    "plt.xlabel(\"Categories\")\n",
    "plt.ylabel(\"Deliveries mean\")"
   ]
  },
  {
   "cell_type": "code",
   "execution_count": null,
   "metadata": {},
   "outputs": [],
   "source": [
    "#Adding new column with day of the week and checking its relationship with delivery time\n",
    "deliveries_ses_user_prod['weekday'] = deliveries_ses_user_prod['purchase_timestamp'].dt.day_name()\n",
    "deliveries_ses_user_prod.boxplot(column=\"deltas\",by='weekday',figsize=(10,10), positions=[4,0,5,6,3,1,2])\n"
   ]
  },
  {
   "cell_type": "code",
   "execution_count": null,
   "metadata": {},
   "outputs": [],
   "source": [
    "# No simple way to reorder the bars in matplotlib, so we had to use this trick\n",
    "# We create an artificial key, by which we will sort dataframe\n",
    "work_df = deliveries_ses_user_prod\n",
    "work_df = work_df.groupby('weekday').deltas.mean().reset_index()\n",
    "work_df = work_df.reindex([1,5,6,4,0,2,3])\n",
    "plt.figure(figsize=(10, 8))\n",
    "\n",
    "plt.bar(work_df.weekday, work_df.deltas, color='#BE5D77')\n",
    "plt.title(\"Delivery mean by day of the week the item was purchased\")\n",
    "plt.xlabel(\"Days of the week\")\n",
    "plt.ylabel(\"Deliveries mean\")"
   ]
  },
  {
   "cell_type": "code",
   "execution_count": null,
   "metadata": {},
   "outputs": [],
   "source": [
    "#Function for labeling rows\n",
    "def labelTimeOfDay(row):\n",
    "    hour = row['purchase_timestamp'].hour\n",
    "    if(hour >= 6 and hour < 12):\n",
    "        return \"Morning\"\n",
    "    elif(hour >= 12 and hour < 18):\n",
    "        return \"Afternoon\"\n",
    "    elif(hour >=18 and hour < 24):\n",
    "        return \"Evening\"\n",
    "    else:\n",
    "        return \"Night\""
   ]
  },
  {
   "cell_type": "code",
   "execution_count": null,
   "metadata": {},
   "outputs": [],
   "source": [
    "#Using the function above to label all the rows\n",
    "deliveries_clean.loc[:,'time_of_day'] = deliveries_clean.apply(lambda row: labelTimeOfDay(row), axis=1)"
   ]
  },
  {
   "cell_type": "code",
   "execution_count": null,
   "metadata": {},
   "outputs": [],
   "source": [
    "#Checking the relationship between the time of the day when we purchased the item and its delivery time\n",
    "deliveries_clean.boxplot(column=\"deltas\",by='time_of_day',figsize=(10,10), positions=[1,2,0,3])"
   ]
  },
  {
   "cell_type": "code",
   "execution_count": null,
   "metadata": {},
   "outputs": [],
   "source": [
    "# Once again checking the mean for other clues\n",
    "deliveries_clean = deliveries_clean.groupby('time_of_day', as_index=False).deltas.mean()\n",
    "plt.figure(figsize=(10, 8))\n",
    "plt.bar(deliveries_clean.time_of_day, deliveries_clean.deltas, color='#BE5D77')\n",
    "plt.title(\"Delivery mean by time of the day the item was purchased\")\n",
    "plt.xlabel(\"Time of day\")\n",
    "plt.ylabel(\"Deliveries mean\")"
   ]
  },
  {
   "cell_type": "code",
   "execution_count": null,
   "metadata": {},
   "outputs": [],
   "source": [
    "# Investigating negative values of delta column \n",
    "deliveries_ses_user_prod_neg = deliveries_ses_user_prod[deliveries_ses_user_prod['deltas'] < 0]"
   ]
  },
  {
   "cell_type": "code",
   "execution_count": null,
   "metadata": {},
   "outputs": [],
   "source": [
    "deliveries_ses_user_prod"
   ]
  },
  {
   "cell_type": "code",
   "execution_count": null,
   "metadata": {},
   "outputs": [],
   "source": [
    "# Rows with negative values represent around 31% of the whole dataset \n",
    "percent = len(deliveries_ses_user_prod_neg.index)/len(deliveries_ses_user_prod.index)\n",
    "print(round(percent,2))"
   ]
  },
  {
   "cell_type": "code",
   "execution_count": null,
   "metadata": {},
   "outputs": [],
   "source": [
    "# Analyzing the problem of NaT values in timestamps columns in deliveries dataframe\n",
    "deliveries = d.deliveries\n",
    "deliveries_empty = deliveries[deliveries.purchase_timestamp.isnull() | deliveries.delivery_timestamp.isnull()]\n",
    "percent = len(deliveries_empty)/len(deliveries)\n",
    "print(round(percent,2))"
   ]
  },
  {
   "cell_type": "code",
   "execution_count": null,
   "metadata": {},
   "outputs": [],
   "source": [
    "# There is no problem with checking when the item was purchased on the site\n",
    "print(len(deliveries[deliveries.purchase_timestamp.isnull()]))"
   ]
  },
  {
   "cell_type": "code",
   "execution_count": null,
   "metadata": {},
   "outputs": [],
   "source": [
    "delivery_empty = deliveries[deliveries.delivery_timestamp.isnull()]\n",
    "delivery_grouped = deliveries_empty.groupby('delivery_company', as_index=False).purchase_id.count()"
   ]
  },
  {
   "cell_type": "code",
   "execution_count": null,
   "metadata": {},
   "outputs": [],
   "source": [
    "plt.figure(figsize=(10, 8))\n",
    "plt.bar(delivery_grouped.delivery_company.astype(str), delivery_grouped.purchase_id, color='#BE5D77')\n",
    "plt.title(\"NaT value in delivery timestamp column\")\n",
    "plt.xlabel(\"Delivery company\")\n",
    "plt.ylabel(\"Number of empty rows\")"
   ]
  },
  {
   "cell_type": "code",
   "execution_count": null,
   "metadata": {},
   "outputs": [],
   "source": [
    "delivery_empty"
   ]
  },
  {
   "cell_type": "code",
   "execution_count": null,
   "metadata": {},
   "outputs": [],
   "source": [
    "# Trying to understand why there are so many empty rows\n",
    "deliveries = d.deliveries\n",
    "deliveries_empty = deliveries[deliveries.isna().any(axis=1)]"
   ]
  },
  {
   "cell_type": "code",
   "execution_count": null,
   "metadata": {},
   "outputs": [],
   "source": [
    "# Searching for last delivery by each company\n",
    "deliveries_grouped = deliveries.groupby('delivery_company')['delivery_timestamp']\n",
    "deliveries_empty = deliveries_empty.assign(max=deliveries_grouped.transform(max))\n",
    "deliveries_empty.loc[:,'max_delta'] = deliveries_empty['max'] - deliveries_empty['purchase_timestamp']\n",
    "deliveries_empty.dtypes\n",
    "deliveries_empty[\"max_delta\"] = deliveries_empty[\"max_delta\"].astype('timedelta64[D]')\n",
    "deliveries_empty.boxplot(column=\"max_delta\",by='delivery_company',figsize=(10,10))"
   ]
  },
  {
   "cell_type": "code",
   "execution_count": null,
   "metadata": {},
   "outputs": [],
   "source": [
    "#sklearn is used only to split in a good way data\n",
    "from sklearn.model_selection import train_test_split\n",
    "train, test = train_test_split(deliveries_ses_user_prod, test_size=0.2)"
   ]
  },
  {
   "cell_type": "code",
   "execution_count": null,
   "metadata": {},
   "outputs": [],
   "source": [
    "train"
   ]
  },
  {
   "cell_type": "code",
   "execution_count": null,
   "metadata": {},
   "outputs": [],
   "source": []
  }
 ],
 "metadata": {
  "kernelspec": {
   "name": "python394jvsc74a57bd042bd4792ff511257394d3db5dbf785f768e2ae58b2ebf8377fed133aa8ab7881",
   "display_name": "Python 3.9.4 64-bit"
  },
  "language_info": {
   "codemirror_mode": {
    "name": "ipython",
    "version": 3
   },
   "file_extension": ".py",
   "mimetype": "text/x-python",
   "name": "python",
   "nbconvert_exporter": "python",
   "pygments_lexer": "ipython3",
   "version": "3.9.4"
  },
  "metadata": {
   "interpreter": {
    "hash": "42bd4792ff511257394d3db5dbf785f768e2ae58b2ebf8377fed133aa8ab7881"
   }
  }
 },
 "nbformat": 4,
 "nbformat_minor": 2
}